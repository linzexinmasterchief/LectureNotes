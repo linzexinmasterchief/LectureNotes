{
 "cells": [
  {
   "cell_type": "markdown",
   "metadata": {},
   "source": [
    "Use tikzmagick from https://github.com/mkrphys/ipython-tikzmagic"
   ]
  },
  {
   "cell_type": "markdown",
   "metadata": {},
   "source": [
    "### Requirements:  \n",
    "LaTeX  \n",
    "ImageMagick  \n",
    "\n",
    "pdf2svg.  http://cityinthesky.co.uk/opensource/pdf2svg/  \n",
    "Windows  \n",
    "github  \n",
    "* ## https://github.com/dawbarton/pdf2svg/releases/tag/v0.2.3\n",
    "useful infos  \n",
    "* http://blog.alivate.com.au/poppler-windows/  \n",
    "* https://community.jalios.com/jcms/jc2_183627/en/pdf2svg2-bat-script  \n",
    "\n",
    "Prerequisites:\n",
    "\n",
    "* Poppler (easy to find binary build)  \n",
    "tested with v0.5.4 but other versions may work as well  \n",
    "\n",
    "* Cairo  \n",
    "## could be installed in conda  \n",
    "conda install -m conda-forge pycairo  \n",
    "\n",
    "tested with v1.2.6 and v1.4.10 but other versions may work as well  \n",
    "https://www.cairographics.org/download/  \n",
    "Cairo require gtk+:  \n",
    "could get it with MSYS2  \n",
    "https://www.msys2.org/  \n",
    "or  \n",
    "https://sourceforge.net/projects/gtk-win/  \n",
    "stackoverflow  \n",
    "https://stackoverflow.com/questions/32662215/how-do-you-install-gtk-3-0-on-windows\n",
    "\n",
    "Linux  \n",
    "* https://github.com/dawbarton/pdf2svg/releases/tag/v0.2.3\n"
   ]
  },
  {
   "cell_type": "markdown",
   "metadata": {},
   "source": [
    "## Tutorials"
   ]
  },
  {
   "cell_type": "markdown",
   "metadata": {},
   "source": [
    "https://github.com/Hansimov/pgfmanual-zh  \n",
    "\n",
    "https://github.com/xiaohanyu/awesome-tikz  \n",
    "https://project-awesome.org/xiaohanyu/awesome-tikz\n",
    "\n",
    "https://laurentperrinet.github.io/sciblog/posts/2015-01-20-using-tikzmagic.html"
   ]
  },
  {
   "cell_type": "markdown",
   "metadata": {},
   "source": [
    "### Best:  \n",
    "https://www.overleaf.com/learn/latex/pgfplots_package"
   ]
  },
  {
   "cell_type": "code",
   "execution_count": null,
   "metadata": {},
   "outputs": [],
   "source": []
  }
 ],
 "metadata": {
  "kernelspec": {
   "display_name": "Python 3",
   "language": "python",
   "name": "python3"
  },
  "language_info": {
   "codemirror_mode": {
    "name": "ipython",
    "version": 3
   },
   "file_extension": ".py",
   "mimetype": "text/x-python",
   "name": "python",
   "nbconvert_exporter": "python",
   "pygments_lexer": "ipython3",
   "version": "3.7.7"
  },
  "latex_envs": {
   "LaTeX_envs_menu_present": true,
   "autoclose": false,
   "autocomplete": true,
   "bibliofile": "biblio.bib",
   "cite_by": "apalike",
   "current_citInitial": 1,
   "eqLabelWithNumbers": true,
   "eqNumInitial": 1,
   "hotkeys": {
    "equation": "Ctrl-E",
    "itemize": "Ctrl-I"
   },
   "labels_anchors": false,
   "latex_user_defs": false,
   "report_style_numbering": false,
   "user_envs_cfg": false
  }
 },
 "nbformat": 4,
 "nbformat_minor": 4
}
